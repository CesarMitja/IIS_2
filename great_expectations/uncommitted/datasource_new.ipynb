{
 "cells": [
  {
   "cell_type": "markdown",
   "id": "ef438293",
   "metadata": {},
   "source": [
    "# Create a new pandas Datasource\n",
    "Use this notebook to configure a new pandas Datasource and add it to your project."
   ]
  },
  {
   "cell_type": "code",
   "execution_count": 4,
   "id": "9e18ff24",
   "metadata": {},
   "outputs": [],
   "source": [
    "import great_expectations as gx\n",
    "from great_expectations.cli.datasource import sanitize_yaml_and_save_datasource, check_if_datasource_name_exists\n",
    "context = gx.get_context()"
   ]
  },
  {
   "cell_type": "markdown",
   "id": "fa00ba9f",
   "metadata": {},
   "source": [
    "## Customize Your Datasource Configuration\n",
    "\n",
    "**If you are new to Great Expectations Datasources,** you should check out our [how-to documentation](https://docs.greatexpectations.io/docs/guides/connecting_to_your_data/connect_to_data_overview)\n",
    "\n",
    "**My configuration is not so simple - are there more advanced options?**\n",
    "Glad you asked! Datasources are versatile. Please see our [How To Guides](https://docs.greatexpectations.io/docs/guides/connecting_to_your_data/connect_to_data_overview)!\n",
    "\n",
    "Give your datasource a unique name:"
   ]
  },
  {
   "cell_type": "code",
   "execution_count": 5,
   "id": "f76e7303",
   "metadata": {},
   "outputs": [],
   "source": [
    "datasource_name = \"IIS\""
   ]
  },
  {
   "cell_type": "markdown",
   "id": "2e03cd11",
   "metadata": {},
   "source": [
    "### For files based Datasources:\n",
    "Here we are creating an example configuration.  The configuration contains an **InferredAssetFilesystemDataConnector** which will add a Data Asset for each file in the base directory you provided. It also contains a **RuntimeDataConnector** which can accept filepaths.   This is just an example, and you may customize this as you wish!\n",
    "\n",
    "Also, if you would like to learn more about the **DataConnectors** used in this configuration, including other methods to organize assets, handle multi-file assets, name assets based on parts of a filename, please see our docs on [InferredAssetDataConnectors](https://docs.greatexpectations.io/docs/guides/connecting_to_your_data/how_to_configure_an_inferredassetdataconnector) and [RuntimeDataConnectors](https://docs.greatexpectations.io/docs/guides/connecting_to_your_data/how_to_configure_a_runtimedataconnector).\n"
   ]
  },
  {
   "cell_type": "code",
   "execution_count": 6,
   "id": "8323d5bc",
   "metadata": {},
   "outputs": [
    {
     "name": "stdout",
     "output_type": "stream",
     "text": [
      "\n",
      "name: IIS\n",
      "class_name: Datasource\n",
      "execution_engine:\n",
      "  class_name: PandasExecutionEngine\n",
      "data_connectors:\n",
      "  csv_raw_files:\n",
      "    class_name: InferredAssetFilesystemDataConnector\n",
      "    base_directory: ../data/raw\n",
      "    default_regex:\n",
      "      group_names:\n",
      "        - data_asset_name\n",
      "      pattern: (.*\\.csv)\n",
      "  csv_processed_files:\n",
      "    class_name: InferredAssetFilesystemDataConnector\n",
      "    base_directory: ../data/processed\n",
      "    default_regex:\n",
      "      group_names:\n",
      "        - data_asset_name\n",
      "      pattern: (.*\\.csv)\n",
      "default_runtime_data_connector_name:\n",
      "    class_name: RuntimeDataConnector\n",
      "    assets:\n",
      "      my_runtime_asset_name:\n",
      "        batch_identifiers:\n",
      "          - runtime_batch_identifier_name\n",
      "\n"
     ]
    }
   ],
   "source": [
    "example_yaml = f\"\"\"\n",
    "name: {datasource_name}\n",
    "class_name: Datasource\n",
    "execution_engine:\n",
    "  class_name: PandasExecutionEngine\n",
    "data_connectors:\n",
    "  csv_raw_files:\n",
    "    class_name: InferredAssetFilesystemDataConnector\n",
    "    base_directory: ../data/raw\n",
    "    default_regex:\n",
    "      group_names:\n",
    "        - data_asset_name\n",
    "      pattern: (.*\\.csv)\n",
    "  csv_processed_files:\n",
    "    class_name: InferredAssetFilesystemDataConnector\n",
    "    base_directory: ../data/processed\n",
    "    default_regex:\n",
    "      group_names:\n",
    "        - data_asset_name\n",
    "      pattern: (.*\\.csv)\n",
    "default_runtime_data_connector_name:\n",
    "    class_name: RuntimeDataConnector\n",
    "    assets:\n",
    "      my_runtime_asset_name:\n",
    "        batch_identifiers:\n",
    "          - runtime_batch_identifier_name\n",
    "\"\"\"\n",
    "print(example_yaml)"
   ]
  },
  {
   "cell_type": "markdown",
   "id": "69d716a3",
   "metadata": {},
   "source": [
    "# Test Your Datasource Configuration\n",
    "Here we will test your Datasource configuration to make sure it is valid.\n",
    "\n",
    "This `test_yaml_config()` function is meant to enable fast dev loops. **If your\n",
    "configuration is correct, this cell will show you some snippets of the data\n",
    "assets in the data source.** You can continually edit your Datasource config\n",
    "yaml and re-run the cell to check until the new config is valid.\n",
    "\n",
    "If you instead wish to use python instead of yaml to configure your Datasource,\n",
    "you can use `context.add_datasource()` and specify all the required parameters."
   ]
  },
  {
   "cell_type": "code",
   "execution_count": 7,
   "id": "002eea5c",
   "metadata": {},
   "outputs": [
    {
     "name": "stdout",
     "output_type": "stream",
     "text": [
      "Attempting to instantiate class from config...\n",
      "\tInstantiating as a Datasource, since class_name is Datasource\n",
      "\tSuccessfully instantiated Datasource\n",
      "\n",
      "\n",
      "ExecutionEngine class name: PandasExecutionEngine\n",
      "Data Connectors:\n",
      "\tcsv_processed_files : InferredAssetFilesystemDataConnector\n",
      "\n",
      "\tAvailable data_asset_names (1 of 1):\n",
      "\t\tdata_for_prediction.csv (1 of 1): ['data_for_prediction.csv']\n",
      "\n",
      "\tUnmatched data_references (1 of 1):['.gitignore']\n",
      "\n",
      "\tcsv_raw_files : InferredAssetFilesystemDataConnector\n",
      "\n",
      "\tAvailable data_asset_names (2 of 2):\n",
      "\t\tkolesa.csv (1 of 1): ['kolesa.csv']\n",
      "\t\tvreme.csv (1 of 1): ['vreme.csv']\n",
      "\n",
      "\tUnmatched data_references (1 of 1):['.gitignore']\n",
      "\n"
     ]
    },
    {
     "data": {
      "text/plain": [
       "<great_expectations.datasource.new_datasource.Datasource at 0x29c8542d2e0>"
      ]
     },
     "execution_count": 7,
     "metadata": {},
     "output_type": "execute_result"
    }
   ],
   "source": [
    "context.test_yaml_config(yaml_config=example_yaml)"
   ]
  },
  {
   "cell_type": "markdown",
   "id": "e2f44318",
   "metadata": {},
   "source": [
    "## Save Your Datasource Configuration\n",
    "Here we will save your Datasource in your Data Context once you are satisfied with the configuration. Note that `overwrite_existing` defaults to False, but you may change it to True if you wish to overwrite. Please note that if you wish to include comments you must add them directly to your `great_expectations.yml`."
   ]
  },
  {
   "cell_type": "code",
   "execution_count": 8,
   "id": "688768ea",
   "metadata": {},
   "outputs": [
    {
     "name": "stdout",
     "output_type": "stream",
     "text": [
      "**WARNING** A Datasource named \"IIS\" already exists in this Data Context. The Datasource has *not* been saved. Please use a different name or set overwrite_existing=True if you want to overwrite!\n"
     ]
    },
    {
     "data": {
      "text/plain": [
       "[{'name': 'IIS',\n",
       "  'class_name': 'Datasource',\n",
       "  'module_name': 'great_expectations.datasource',\n",
       "  'execution_engine': {'class_name': 'PandasExecutionEngine',\n",
       "   'module_name': 'great_expectations.execution_engine'},\n",
       "  'data_connectors': {'csv_raw_files': {'class_name': 'InferredAssetFilesystemDataConnector',\n",
       "    'module_name': 'great_expectations.datasource.data_connector',\n",
       "    'base_directory': '../data/raw',\n",
       "    'default_regex': {'group_names': ['data_asset_name'],\n",
       "     'pattern': '(.*\\\\.csv)'}},\n",
       "   'csv_processed_files': {'class_name': 'InferredAssetFilesystemDataConnector',\n",
       "    'module_name': 'great_expectations.datasource.data_connector',\n",
       "    'base_directory': '../data/processed',\n",
       "    'default_regex': {'group_names': ['data_asset_name'],\n",
       "     'pattern': '(.*\\\\.csv)'}}}}]"
      ]
     },
     "execution_count": 8,
     "metadata": {},
     "output_type": "execute_result"
    }
   ],
   "source": [
    "sanitize_yaml_and_save_datasource(context, example_yaml, overwrite_existing=False)\n",
    "context.list_datasources()"
   ]
  },
  {
   "cell_type": "markdown",
   "id": "fc193c19",
   "metadata": {},
   "source": [
    "Now you can close this notebook and delete it!"
   ]
  }
 ],
 "metadata": {
  "kernelspec": {
   "display_name": "Python 3 (ipykernel)",
   "language": "python",
   "name": "python3"
  },
  "language_info": {
   "codemirror_mode": {
    "name": "ipython",
    "version": 3
   },
   "file_extension": ".py",
   "mimetype": "text/x-python",
   "name": "python",
   "nbconvert_exporter": "python",
   "pygments_lexer": "ipython3",
   "version": "3.9.0"
  }
 },
 "nbformat": 4,
 "nbformat_minor": 5
}
